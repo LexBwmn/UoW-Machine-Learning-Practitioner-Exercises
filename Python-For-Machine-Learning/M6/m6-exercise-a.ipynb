{
 "cells": [
  {
   "cell_type": "markdown",
   "id": "317a5de3",
   "metadata": {},
   "source": [
    "# Module 6: Exercise A"
   ]
  },
  {
   "cell_type": "code",
   "execution_count": 1,
   "id": "0be04c28",
   "metadata": {},
   "outputs": [],
   "source": [
    "import numpy as np\n",
    "import pandas as pd\n",
    "\n",
    "from sklearn import preprocessing \n",
    "import matplotlib.pyplot as plt\n",
    "import seaborn as sns\n",
    "\n",
    "%matplotlib inline"
   ]
  },
  {
   "cell_type": "markdown",
   "id": "0c0781f5",
   "metadata": {},
   "source": [
    "Let's import and explore the data file \"heart_failure.csv\":"
   ]
  },
  {
   "cell_type": "code",
   "execution_count": 5,
   "id": "78668b92",
   "metadata": {},
   "outputs": [
    {
     "data": {
      "text/html": [
       "<div>\n",
       "<style scoped>\n",
       "    .dataframe tbody tr th:only-of-type {\n",
       "        vertical-align: middle;\n",
       "    }\n",
       "\n",
       "    .dataframe tbody tr th {\n",
       "        vertical-align: top;\n",
       "    }\n",
       "\n",
       "    .dataframe thead th {\n",
       "        text-align: right;\n",
       "    }\n",
       "</style>\n",
       "<table border=\"1\" class=\"dataframe\">\n",
       "  <thead>\n",
       "    <tr style=\"text-align: right;\">\n",
       "      <th></th>\n",
       "      <th>age</th>\n",
       "      <th>anaemia</th>\n",
       "      <th>creatinine_phosphokinase</th>\n",
       "      <th>diabetes</th>\n",
       "      <th>ejection_fraction</th>\n",
       "      <th>high_blood_pressure</th>\n",
       "      <th>platelets</th>\n",
       "      <th>serum_creatinine</th>\n",
       "      <th>serum_sodium</th>\n",
       "      <th>sex</th>\n",
       "      <th>smoking</th>\n",
       "      <th>time</th>\n",
       "      <th>DEATH_EVENT</th>\n",
       "    </tr>\n",
       "  </thead>\n",
       "  <tbody>\n",
       "    <tr>\n",
       "      <th>0</th>\n",
       "      <td>75.0</td>\n",
       "      <td>0</td>\n",
       "      <td>582</td>\n",
       "      <td>0</td>\n",
       "      <td>20</td>\n",
       "      <td>1</td>\n",
       "      <td>265000.00</td>\n",
       "      <td>1.9</td>\n",
       "      <td>130</td>\n",
       "      <td>1</td>\n",
       "      <td>0</td>\n",
       "      <td>4</td>\n",
       "      <td>1</td>\n",
       "    </tr>\n",
       "    <tr>\n",
       "      <th>1</th>\n",
       "      <td>55.0</td>\n",
       "      <td>0</td>\n",
       "      <td>7861</td>\n",
       "      <td>0</td>\n",
       "      <td>38</td>\n",
       "      <td>0</td>\n",
       "      <td>263358.03</td>\n",
       "      <td>1.1</td>\n",
       "      <td>136</td>\n",
       "      <td>1</td>\n",
       "      <td>0</td>\n",
       "      <td>6</td>\n",
       "      <td>1</td>\n",
       "    </tr>\n",
       "    <tr>\n",
       "      <th>2</th>\n",
       "      <td>65.0</td>\n",
       "      <td>0</td>\n",
       "      <td>146</td>\n",
       "      <td>0</td>\n",
       "      <td>20</td>\n",
       "      <td>0</td>\n",
       "      <td>162000.00</td>\n",
       "      <td>1.3</td>\n",
       "      <td>129</td>\n",
       "      <td>1</td>\n",
       "      <td>1</td>\n",
       "      <td>7</td>\n",
       "      <td>1</td>\n",
       "    </tr>\n",
       "    <tr>\n",
       "      <th>3</th>\n",
       "      <td>50.0</td>\n",
       "      <td>1</td>\n",
       "      <td>111</td>\n",
       "      <td>0</td>\n",
       "      <td>20</td>\n",
       "      <td>0</td>\n",
       "      <td>210000.00</td>\n",
       "      <td>1.9</td>\n",
       "      <td>137</td>\n",
       "      <td>1</td>\n",
       "      <td>0</td>\n",
       "      <td>7</td>\n",
       "      <td>1</td>\n",
       "    </tr>\n",
       "    <tr>\n",
       "      <th>4</th>\n",
       "      <td>65.0</td>\n",
       "      <td>1</td>\n",
       "      <td>160</td>\n",
       "      <td>1</td>\n",
       "      <td>20</td>\n",
       "      <td>0</td>\n",
       "      <td>327000.00</td>\n",
       "      <td>2.7</td>\n",
       "      <td>116</td>\n",
       "      <td>0</td>\n",
       "      <td>0</td>\n",
       "      <td>8</td>\n",
       "      <td>1</td>\n",
       "    </tr>\n",
       "  </tbody>\n",
       "</table>\n",
       "</div>"
      ],
      "text/plain": [
       "    age  anaemia  creatinine_phosphokinase  diabetes  ejection_fraction  \\\n",
       "0  75.0        0                       582         0                 20   \n",
       "1  55.0        0                      7861         0                 38   \n",
       "2  65.0        0                       146         0                 20   \n",
       "3  50.0        1                       111         0                 20   \n",
       "4  65.0        1                       160         1                 20   \n",
       "\n",
       "   high_blood_pressure  platelets  serum_creatinine  serum_sodium  sex  \\\n",
       "0                    1  265000.00               1.9           130    1   \n",
       "1                    0  263358.03               1.1           136    1   \n",
       "2                    0  162000.00               1.3           129    1   \n",
       "3                    0  210000.00               1.9           137    1   \n",
       "4                    0  327000.00               2.7           116    0   \n",
       "\n",
       "   smoking  time  DEATH_EVENT  \n",
       "0        0     4            1  \n",
       "1        0     6            1  \n",
       "2        1     7            1  \n",
       "3        0     7            1  \n",
       "4        0     8            1  "
      ]
     },
     "execution_count": 5,
     "metadata": {},
     "output_type": "execute_result"
    }
   ],
   "source": [
    "heart = pd.read_csv('heart_failure.csv')\n",
    "heart.head()"
   ]
  },
  {
   "cell_type": "markdown",
   "id": "8c865383-7171-49c1-952e-ed2da5c426d5",
   "metadata": {},
   "source": [
    "Let's see if you still remember how to check missing values and look at data summaries."
   ]
  },
  {
   "cell_type": "markdown",
   "id": "951abe4b",
   "metadata": {},
   "source": [
    ">__Task 1__\n",
    ">\n",
    ">Find out the columns with missing values and data summaries"
   ]
  },
  {
   "cell_type": "code",
   "execution_count": null,
   "id": "cad49c81",
   "metadata": {},
   "outputs": [],
   "source": [
    "# Find missing values\n",
    "..."
   ]
  },
  {
   "cell_type": "code",
   "execution_count": null,
   "id": "4533191e",
   "metadata": {},
   "outputs": [],
   "source": [
    "# Check the summary statistics of the data set\n",
    "..."
   ]
  },
  {
   "cell_type": "markdown",
   "id": "9ce6dc36-eef7-4eba-b954-6d52e235bad8",
   "metadata": {},
   "source": [
    "***"
   ]
  },
  {
   "cell_type": "markdown",
   "id": "8a83551e",
   "metadata": {
    "tags": []
   },
   "source": [
    "## Plotting with Pandas"
   ]
  },
  {
   "cell_type": "markdown",
   "id": "6d9a3cdc",
   "metadata": {},
   "source": [
    "### Line Plot\n",
    "\n",
    "Let's count the number of patients by follow-up days (__time__ column) in the dataset:"
   ]
  },
  {
   "cell_type": "code",
   "execution_count": 8,
   "id": "2844c340",
   "metadata": {},
   "outputs": [
    {
     "data": {
      "text/plain": [
       "250    7\n",
       "187    7\n",
       "10     6\n",
       "186    6\n",
       "107    6\n",
       "      ..\n",
       "97     1\n",
       "96     1\n",
       "86     1\n",
       "77     1\n",
       "285    1\n",
       "Name: time, Length: 148, dtype: int64"
      ]
     },
     "execution_count": 8,
     "metadata": {},
     "output_type": "execute_result"
    }
   ],
   "source": [
    "heart['time'].value_counts()"
   ]
  },
  {
   "cell_type": "markdown",
   "id": "fe11053e",
   "metadata": {},
   "source": [
    ">__Task 2__\n",
    ">\n",
    ">Use a line plot to visualize the number of patients by follow-up days. Note that the __time__ column is not a date that automatic sorted. Try the `.sort_index()` method."
   ]
  },
  {
   "cell_type": "code",
   "execution_count": null,
   "id": "7a2f219d",
   "metadata": {},
   "outputs": [],
   "source": [
    "..."
   ]
  },
  {
   "cell_type": "markdown",
   "id": "bcb9a08b",
   "metadata": {},
   "source": [
    "### Bar Plot\n",
    "\n",
    "Let's visualize the diabetes conditions of patients from the data set. First, count the number of patients by diabetes column: "
   ]
  },
  {
   "cell_type": "code",
   "execution_count": 10,
   "id": "d68e2c7b",
   "metadata": {},
   "outputs": [
    {
     "data": {
      "text/plain": [
       "0    174\n",
       "1    125\n",
       "Name: diabetes, dtype: int64"
      ]
     },
     "execution_count": 10,
     "metadata": {},
     "output_type": "execute_result"
    }
   ],
   "source": [
    "heart['diabetes'].value_counts()"
   ]
  },
  {
   "cell_type": "markdown",
   "id": "6aab0d3b",
   "metadata": {},
   "source": [
    ">__Task 3__\n",
    ">\n",
    ">Use a horizontal bar plot to visualize the diabetes conditions of patentis\n",
    ">- Adjust the transparency of bars to 60%\n",
    ">- Set figure size to (10,5)\n",
    ">- Set rotation to 20"
   ]
  },
  {
   "cell_type": "code",
   "execution_count": null,
   "id": "f0a41a69",
   "metadata": {},
   "outputs": [],
   "source": [
    "..."
   ]
  },
  {
   "cell_type": "markdown",
   "id": "f8c17387",
   "metadata": {},
   "source": [
    "### Histogram\n",
    "\n",
    "Let's visualize the age distribution of patients:"
   ]
  },
  {
   "cell_type": "code",
   "execution_count": 12,
   "id": "15ac6038",
   "metadata": {},
   "outputs": [
    {
     "data": {
      "text/plain": [
       "<AxesSubplot:>"
      ]
     },
     "execution_count": 12,
     "metadata": {},
     "output_type": "execute_result"
    },
    {
     "data": {
      "image/png": "[encoded data removed]",
      "text/plain": [
       "<Figure size 640x480 with 1 Axes>"
      ]
     },
     "metadata": {},
     "output_type": "display_data"
    }
   ],
   "source": [
    "heart['age'].hist()"
   ]
  },
  {
   "cell_type": "markdown",
   "id": "fdf7346c",
   "metadata": {},
   "source": [
    "If we pass a categorical variable, we can compare different distributions corresponding to these categories as well."
   ]
  },
  {
   "cell_type": "markdown",
   "id": "e624af2f",
   "metadata": {},
   "source": [
    ">__Task 4__\n",
    ">\n",
    ">Plot age distribution by sex\n",
    ">\n",
    ">- Set 20 bins for a more detailed output\n",
    ">- Define the categories by adding `by=heart['sex']` \n",
    ">- Set the layout of subplots by adding `layout=(heart['sex'].nunique(),1)`"
   ]
  },
  {
   "cell_type": "code",
   "execution_count": null,
   "id": "cff30da3",
   "metadata": {},
   "outputs": [],
   "source": [
    "..."
   ]
  },
  {
   "cell_type": "markdown",
   "id": "0f4c2697",
   "metadata": {
    "tags": []
   },
   "source": [
    "### Box Plot\n",
    "\n",
    "Let us use a box plot to check quantiles and outliers of the __creatinine_phosphokinase__ column:"
   ]
  },
  {
   "cell_type": "code",
   "execution_count": 14,
   "id": "aaf7a04d",
   "metadata": {},
   "outputs": [
    {
     "data": {
      "text/plain": [
       "<AxesSubplot:>"
      ]
     },
     "execution_count": 14,
     "metadata": {},
     "output_type": "execute_result"
    },
    {
     "data": {
      "image/png": "[encoded data removed]",
      "text/plain": [
       "<Figure size 640x480 with 1 Axes>"
      ]
     },
     "metadata": {},
     "output_type": "display_data"
    }
   ],
   "source": [
    "box_col = ['creatinine_phosphokinase']\n",
    "heart.boxplot(column=box_col)"
   ]
  },
  {
   "cell_type": "markdown",
   "id": "8a50ab4a",
   "metadata": {},
   "source": [
    ">__Task 5__\n",
    ">\n",
    ">Plot a box plot of the __creatinine_phosphokinase__ column based on outcome __DEATH_EVENT__.\n",
    ">\n",
    ">- Draw horizontal boxes\n",
    ">- Set rotation to 45\n",
    ">- Add a `by` paremter to set the __DEATH_EVENT__ column"
   ]
  },
  {
   "cell_type": "code",
   "execution_count": null,
   "id": "99316235",
   "metadata": {},
   "outputs": [],
   "source": [
    "..."
   ]
  },
  {
   "cell_type": "markdown",
   "id": "607779b5",
   "metadata": {},
   "source": [
    "### Density Plot"
   ]
  },
  {
   "cell_type": "markdown",
   "id": "01f13b7d-0a3b-42f3-a6d8-9e4b20c2c22c",
   "metadata": {},
   "source": [
    ">__Task 6__\n",
    ">\n",
    ">Plot the KDE of the __creatinine_phosphokinase__ column\n",
    ">\n",
    ">- Set the figure size to (7,4)\n",
    ">- Set the bandwidth to 0.8"
   ]
  },
  {
   "cell_type": "code",
   "execution_count": null,
   "id": "026d7930",
   "metadata": {},
   "outputs": [],
   "source": [
    "... "
   ]
  },
  {
   "cell_type": "markdown",
   "id": "ba6cace1-691b-4704-ba8f-88c456bf2c89",
   "metadata": {},
   "source": [
    "### Area Plot"
   ]
  },
  {
   "cell_type": "markdown",
   "id": "a0cc5f14",
   "metadata": {},
   "source": [
    ">__Task 7__\n",
    ">\n",
    ">Use area plot to visualize the number of patients by __time__. Do not forget to sort the days."
   ]
  },
  {
   "cell_type": "code",
   "execution_count": null,
   "id": "b0aed796",
   "metadata": {},
   "outputs": [],
   "source": [
    "..."
   ]
  },
  {
   "cell_type": "markdown",
   "id": "148012c1-b7ba-4bf7-a518-ba7762dc2879",
   "metadata": {},
   "source": [
    "### Pie Plot"
   ]
  },
  {
   "cell_type": "markdown",
   "id": "356626a7",
   "metadata": {},
   "source": [
    ">__Task 8__\n",
    ">\n",
    ">Use pie plot to show the composition of the __smoking__ column"
   ]
  },
  {
   "cell_type": "code",
   "execution_count": null,
   "id": "f7296bc3",
   "metadata": {},
   "outputs": [],
   "source": [
    "..."
   ]
  },
  {
   "cell_type": "markdown",
   "id": "5249cfde",
   "metadata": {},
   "source": [
    "### Scatter Plots\n",
    "\n",
    "A scatter plots needs `x` and `y` values specified. We cannot overlap multiple variables as we did in a line plot."
   ]
  },
  {
   "cell_type": "markdown",
   "id": "ec069647",
   "metadata": {},
   "source": [
    ">__Task 9__\n",
    ">\n",
    ">Look at the relathionships between __age__ and __ejection_fraction__ (percentage of blood leaving the heart at each contraction) vs __age__ and __platelets__\n",
    ">\n",
    ">- In the first plot, map __age__ to x-axis and __ejection_fraction__ to y-axis, and give a colour `steelblue`\n",
    ">- In the second plot, map __age__ to x-axis and __platelets__ to y-axis,  and give a colour `darkolivegreen` and set transparency to 0.2"
   ]
  },
  {
   "cell_type": "code",
   "execution_count": null,
   "id": "0571bb31",
   "metadata": {},
   "outputs": [],
   "source": [
    "# Compare age and ejection fraction\n",
    "..."
   ]
  },
  {
   "cell_type": "code",
   "execution_count": null,
   "id": "6795e629",
   "metadata": {},
   "outputs": [],
   "source": [
    "# Compare age and platelets\n",
    "..."
   ]
  },
  {
   "cell_type": "markdown",
   "id": "5729ddf2-8a67-4288-b8a2-111f2493d3a4",
   "metadata": {},
   "source": [
    "***"
   ]
  },
  {
   "cell_type": "markdown",
   "id": "7dbb7fd7",
   "metadata": {
    "tags": []
   },
   "source": [
    "## Plotting with Matplotlib"
   ]
  },
  {
   "cell_type": "markdown",
   "id": "da66c4e7-00aa-4889-8b05-3fbfdae83d41",
   "metadata": {},
   "source": [
    "Let's redo the number of patients by time, but using `matplotlib.pyplot.plot()` instead. The chart should have follow-up days on x-axis and the number of paients on y-axis:"
   ]
  },
  {
   "cell_type": "code",
   "execution_count": 21,
   "id": "6fa95c54-5c21-46a3-a15a-8eedaa0bb728",
   "metadata": {},
   "outputs": [
    {
     "data": {
      "text/plain": [
       "[<matplotlib.lines.Line2D at 0x7f2698c4c520>]"
      ]
     },
     "execution_count": 21,
     "metadata": {},
     "output_type": "execute_result"
    },
    {
     "data": {
      "image/png": "[encoded data removed]",
      "text/plain": [
       "<Figure size 640x480 with 1 Axes>"
      ]
     },
     "metadata": {},
     "output_type": "display_data"
    }
   ],
   "source": [
    "plt.plot(heart['time'].value_counts())"
   ]
  },
  {
   "cell_type": "markdown",
   "id": "d98ced93",
   "metadata": {},
   "source": [
    "Do you find any issues with the plot? The line chart does not show the trend as expected. What went wrong? \n",
    "\n",
    "`plt.plot()` will not automatically sort the data points by x-axis (by integer in our case). Although the x-axis shows numbers in the chronical order, the points are not plotted in this order. Rather, the method will plot from the first data point to the last data point. Let's fix this issue by using `.sort_index()`."
   ]
  },
  {
   "cell_type": "markdown",
   "id": "078e9f9d-1211-4ccb-b308-f095ac5e8f8d",
   "metadata": {},
   "source": [
    ">__Task 10__\n",
    ">\n",
    ">Create a line chart with correct order of the data points and make the chart more self-explainatory by:\n",
    ">\n",
    ">- Setting a line style to dash-dotted\n",
    ">- Setting a marker to `o`\n",
    ">- Adding a legend as \"Number of Patients Followed-up\"\n",
    ">- Adding a x-axis label as \"Day of Follow-up\"\n",
    ">- Adding a y-axis label as \"Number of Patients\"\n",
    ">- Adding a title \"Number of Patients at Follow-up Days\""
   ]
  },
  {
   "cell_type": "code",
   "execution_count": null,
   "id": "75933700",
   "metadata": {},
   "outputs": [],
   "source": [
    "..."
   ]
  },
  {
   "cell_type": "markdown",
   "id": "5585668d",
   "metadata": {},
   "source": [
    ">__Task 11__\n",
    ">\n",
    ">Draw a scatter plot of __age__ vs __ejection_fraction__\n",
    ">\n",
    ">- Set colour to `green`\n",
    ">- Set size of data points to 40 px\n",
    ">- Set transparency to 0.4\n",
    ">- Set marker to `x`"
   ]
  },
  {
   "cell_type": "code",
   "execution_count": null,
   "id": "c6333f47",
   "metadata": {},
   "outputs": [],
   "source": [
    "..."
   ]
  },
  {
   "cell_type": "markdown",
   "id": "d247ec6c",
   "metadata": {},
   "source": [
    "### Subplots\n",
    "\n",
    "To have multiple figures arranged, first, we need to create grid properties to locate subplots. Then we want to add plots to the empty places."
   ]
  },
  {
   "cell_type": "markdown",
   "id": "3f34c716",
   "metadata": {},
   "source": [
    ">__Task 12__\n",
    ">\n",
    ">Create a 2×2 figure using the `figure()` function\n",
    ">\n",
    ">- Add a scatter plot __age__ vs __creatinine_phosphokinase__ in `plot1`\n",
    ">- Add a scatter plot __age__ vs __platelets__ in `plot2`\n",
    ">- Add a scatter plot __age__ vs __serum_creatinine__ in `plot3`\n",
    ">- Add a scatter plot __age__ vs __serum_sodium__ in `plot4`\n",
    ">- Set transparency of all plots to 0.5\n",
    ">- Add y labels as column names to each of the plots\n",
    ">- Add x labels as \"age\" to plots 3 and 4"
   ]
  },
  {
   "cell_type": "code",
   "execution_count": null,
   "id": "af91d7a4",
   "metadata": {},
   "outputs": [],
   "source": [
    "..."
   ]
  },
  {
   "cell_type": "markdown",
   "id": "e5df4040",
   "metadata": {},
   "source": [
    "Alternatively, the `plt.subplots` method can also help create a grid-form figure with the desired subplot objects:"
   ]
  },
  {
   "cell_type": "markdown",
   "id": "dd6e9561",
   "metadata": {},
   "source": [
    ">__Task 13__\n",
    ">\n",
    ">Create a similar 2×2 figure using the `subplots()` function\n",
    ">\n",
    ">- Add a scatter plot __age__ vs __creatinine_phosphokinase__ in `plot1`\n",
    ">- Add a scatter plot __age__ vs __platelets__ in `plot2` with yellow color\n",
    ">- Add a scatter plot __age__ vs __serum_creatinine__ in `plot3` with green color\n",
    ">- Add a scatter plot __age__ vs __serum_sodium__ in `plot4` with red color\n",
    ">- Set transparency of all plots to 0.5\n",
    ">- Add y labels as column names to each of the plots\n",
    ">- Add x labels as \"age\" to plots 3 and 4\n",
    ">- Share the x-axis as they are all age\n",
    ">- Remove the height space"
   ]
  },
  {
   "cell_type": "code",
   "execution_count": null,
   "id": "4e451092",
   "metadata": {
    "scrolled": true
   },
   "outputs": [],
   "source": [
    "..."
   ]
  },
  {
   "cell_type": "markdown",
   "id": "27ae394e",
   "metadata": {},
   "source": [
    "### Saving Plot Files"
   ]
  },
  {
   "cell_type": "markdown",
   "id": "ee7959f9-9dde-445c-8116-c4b434382d8d",
   "metadata": {},
   "source": [
    ">__Task 14__\n",
    ">\n",
    ">Save the figure from the previous task to \"multiplot_by_age.png\" with dpi of 400"
   ]
  },
  {
   "cell_type": "code",
   "execution_count": null,
   "id": "9aabf954",
   "metadata": {},
   "outputs": [],
   "source": [
    "..."
   ]
  },
  {
   "cell_type": "markdown",
   "id": "7715cb20-035c-4d85-90dd-6b06825b0282",
   "metadata": {},
   "source": [
    "***"
   ]
  },
  {
   "cell_type": "markdown",
   "id": "3b35d458",
   "metadata": {},
   "source": [
    "## Plotting with Seaborn"
   ]
  },
  {
   "cell_type": "markdown",
   "id": "564081b4",
   "metadata": {},
   "source": [
    "### Distribution Plots\n",
    "\n",
    "In Seaborn, we use the default `sns.distplot()` method to plot histograms:"
   ]
  },
  {
   "cell_type": "code",
   "execution_count": 26,
   "id": "980d88a2",
   "metadata": {},
   "outputs": [
    {
     "data": {
      "text/plain": [
       "<seaborn.axisgrid.FacetGrid at 0x7f26981df0a0>"
      ]
     },
     "execution_count": 26,
     "metadata": {},
     "output_type": "execute_result"
    },
    {
     "data": {
      "image/png": "[encoded data removed]",
      "text/plain": [
       "<Figure size 500x500 with 1 Axes>"
      ]
     },
     "metadata": {},
     "output_type": "display_data"
    }
   ],
   "source": [
    "sns.displot(heart, x='age')"
   ]
  },
  {
   "cell_type": "markdown",
   "id": "9b776cca",
   "metadata": {},
   "source": [
    "If we reduce the number of bins, the input range will be split into less bins, the width of each bin will increase and there will be more point fallen into that range. We can do it by changing `bins` parameter."
   ]
  },
  {
   "cell_type": "markdown",
   "id": "3d864ce3",
   "metadata": {},
   "source": [
    ">__Task 15__\n",
    ">\n",
    ">Plot histograms to see the distribution of __age__\n",
    ">\n",
    ">- In the first plot, set number of bins to 20\n",
    ">- In the second plot, set `bins` to `range(0,100,5)` and add a density curve on top "
   ]
  },
  {
   "cell_type": "code",
   "execution_count": null,
   "id": "3f98c5b2",
   "metadata": {},
   "outputs": [],
   "source": [
    "# First plot\n",
    "..."
   ]
  },
  {
   "cell_type": "code",
   "execution_count": null,
   "id": "dbe29b7d",
   "metadata": {},
   "outputs": [],
   "source": [
    "# Second plot\n",
    "..."
   ]
  },
  {
   "cell_type": "markdown",
   "id": "ee7d51b5",
   "metadata": {
    "tags": []
   },
   "source": [
    "### Compare Distributions"
   ]
  },
  {
   "cell_type": "markdown",
   "id": "6476e09c",
   "metadata": {},
   "source": [
    ">__Task 16__\n",
    ">\n",
    ">Plot a overlapperd histogram of the __creatinine_phosphokinase__ column and the outcome column __DEATH_EVENT__\n",
    ">\n",
    ">- Set `hue` to __DEATH_EVENT__\n",
    ">- Set `bins` to 25\n",
    ">- Set y-axis as `density`"
   ]
  },
  {
   "cell_type": "code",
   "execution_count": null,
   "id": "606ed3ca",
   "metadata": {},
   "outputs": [],
   "source": [
    "..."
   ]
  },
  {
   "cell_type": "markdown",
   "id": "96ab9689",
   "metadata": {},
   "source": [
    "Faceting is another way to compare distributions, which refers to plotting each plot separately. `col` or `row` arguments can be used to control the output."
   ]
  },
  {
   "cell_type": "markdown",
   "id": "e8367b9a-56d1-4677-821d-913ae4a2ea58",
   "metadata": {},
   "source": [
    ">__Task 17__\n",
    ">\n",
    ">Plot the distribution of __creatinine_phosphokinase__ based on the outcome __DEATH_EVENT__\n",
    ">\n",
    ">- Map the outcome of __DEATH_EVENT__ to column\n",
    ">- Map the outcome of __DEATH_EVENT__ to row"
   ]
  },
  {
   "cell_type": "code",
   "execution_count": null,
   "id": "2c72757f",
   "metadata": {},
   "outputs": [],
   "source": [
    "# Map y to col\n",
    "..."
   ]
  },
  {
   "cell_type": "code",
   "execution_count": null,
   "id": "4efc970d-38ad-4712-9688-02b1443b1b74",
   "metadata": {},
   "outputs": [],
   "source": [
    "# Map y to row\n",
    "..."
   ]
  },
  {
   "cell_type": "markdown",
   "id": "0b2b38e7",
   "metadata": {},
   "source": [
    "### Joint and Marginal Distributions\n",
    "\n",
    "`sns.jointplot()` is a combined plot:"
   ]
  },
  {
   "cell_type": "code",
   "execution_count": 32,
   "id": "4a73d6d2",
   "metadata": {},
   "outputs": [
    {
     "data": {
      "text/plain": [
       "<seaborn.axisgrid.JointGrid at 0x7f26982a0520>"
      ]
     },
     "execution_count": 32,
     "metadata": {},
     "output_type": "execute_result"
    },
    {
     "data": {
      "image/png": "[encoded data removed]",
      "text/plain": [
       "<Figure size 600x600 with 3 Axes>"
      ]
     },
     "metadata": {},
     "output_type": "display_data"
    }
   ],
   "source": [
    "sns.jointplot(data=heart, x='creatinine_phosphokinase', y='serum_creatinine') "
   ]
  },
  {
   "cell_type": "markdown",
   "id": "dbe6b9da-03fa-4ca8-a036-989fd14f6cde",
   "metadata": {},
   "source": [
    "We can also plot the joint distributions by categories to examine the distribution in each category."
   ]
  },
  {
   "cell_type": "markdown",
   "id": "a7c26794",
   "metadata": {},
   "source": [
    ">__Task 18__\n",
    ">\n",
    ">Draw a plot of two variables __creatinine_phosphokinase__ and __serum_creatinine__ with groups from the __sex__ column\n",
    ">\n",
    ">- Display density plots on the marginal axes"
   ]
  },
  {
   "cell_type": "code",
   "execution_count": null,
   "id": "c262d61b",
   "metadata": {},
   "outputs": [],
   "source": [
    "..."
   ]
  },
  {
   "cell_type": "markdown",
   "id": "b53a6d8f",
   "metadata": {},
   "source": [
    "In a broader view, `pairplot()` displays all pairwise relationships in our data."
   ]
  },
  {
   "cell_type": "markdown",
   "id": "0879e4ed-0927-4404-b5a8-43906b2902b0",
   "metadata": {},
   "source": [
    ">__Task 19__\n",
    ">\n",
    ">Draw a pair plot to compare variables __creatinine_phosphokinase__, __serum_creatinine__ and __serum_sodium__ variables"
   ]
  },
  {
   "cell_type": "code",
   "execution_count": null,
   "id": "a312b032",
   "metadata": {},
   "outputs": [],
   "source": [
    "..."
   ]
  },
  {
   "cell_type": "markdown",
   "id": "91d436a4",
   "metadata": {},
   "source": [
    "### Plots for categorical data\n",
    "\n",
    "To visualize categorical variables, we need a data set that consists of categorical data. If we don't have categories, we should preprocess the data to have one."
   ]
  },
  {
   "cell_type": "markdown",
   "id": "2a1e807a-c528-4371-9f20-de7b33191d83",
   "metadata": {},
   "source": [
    ">__Task 20__\n",
    ">\n",
    ">Use a bar plot to show the total number of high blood pressure conditions\n",
    ">\n",
    ">- Option 1: Convert `heart['high_blood_pressure'].value_counts()` to a data frame by `reset_index()`\n",
    ">- Option 2: Use `heart['high_blood_pressure'].value_counts()` directly as a series, indicate `heart['high_blood_pressure'].value_counts().values` as y-axis, and `heart['high_blood_pressure'].value_counts().index` as x-axis"
   ]
  },
  {
   "cell_type": "code",
   "execution_count": null,
   "id": "d532f661",
   "metadata": {},
   "outputs": [],
   "source": [
    "# Option 1\n",
    "...\n",
    "\n",
    "# Rotate the x labels for a better look\n",
    "..."
   ]
  },
  {
   "cell_type": "code",
   "execution_count": null,
   "id": "946e1bfc",
   "metadata": {},
   "outputs": [],
   "source": [
    "# Option 2\n",
    "...\n",
    "\n",
    "# Rotate the x labels for a better look\n",
    "..."
   ]
  },
  {
   "cell_type": "markdown",
   "id": "87e2bec6",
   "metadata": {},
   "source": [
    "In the above example, we explicitly calculated the count for each category of __high_blood_pressure__. There is also a one-step Seaborn method to implement this, which is `countplot()`."
   ]
  },
  {
   "cell_type": "markdown",
   "id": "59f3904c-938f-498e-9424-b863e6981e86",
   "metadata": {},
   "source": [
    ">__Task 21__\n",
    ">\n",
    ">Use `countplot()` to draw bar graphs showing the count by __high_blood_pressure__ categories\n",
    ">\n",
    ">- Rotate the x labels to 45 for a better look"
   ]
  },
  {
   "cell_type": "code",
   "execution_count": null,
   "id": "1ebbfcff",
   "metadata": {},
   "outputs": [],
   "source": [
    "..."
   ]
  },
  {
   "cell_type": "markdown",
   "id": "6eeb5aec-ca1c-49fe-9d61-cfa2932257b9",
   "metadata": {},
   "source": [
    "Note the count above is not sorted. We can sort the plot from highest to lowest count by adding an `order` parameter:"
   ]
  },
  {
   "cell_type": "code",
   "execution_count": 38,
   "id": "6e03461d",
   "metadata": {},
   "outputs": [
    {
     "data": {
      "text/plain": [
       "(array([0, 1]), [Text(0, 0, '0'), Text(1, 0, '1')])"
      ]
     },
     "execution_count": 38,
     "metadata": {},
     "output_type": "execute_result"
    },
    {
     "data": {
      "image/png": "[encoded data removed]",
      "text/plain": [
       "<Figure size 640x480 with 1 Axes>"
      ]
     },
     "metadata": {},
     "output_type": "display_data"
    }
   ],
   "source": [
    "sns.countplot(data=heart, x='high_blood_pressure', order=heart['high_blood_pressure'].value_counts().index)\n",
    "plt.xticks(rotation=45)"
   ]
  },
  {
   "cell_type": "markdown",
   "id": "3d819f97",
   "metadata": {},
   "source": [
    "#### Box Plot and Violin Plot"
   ]
  },
  {
   "cell_type": "markdown",
   "id": "fa9b3015-04bd-4d78-8f79-ded2e39d13ce",
   "metadata": {},
   "source": [
    ">__Task 22__\n",
    ">\n",
    ">Visualize the distribution of __age__ (y-axis) based on __sex__ (x-axis) using `boxplot` and `violinplot`"
   ]
  },
  {
   "cell_type": "code",
   "execution_count": null,
   "id": "02464fb8",
   "metadata": {},
   "outputs": [],
   "source": [
    "# Draw a box plot\n",
    "..."
   ]
  },
  {
   "cell_type": "code",
   "execution_count": null,
   "id": "16561f83",
   "metadata": {},
   "outputs": [],
   "source": [
    "# Draw a violin plot\n",
    "..."
   ]
  }
 ],
 "metadata": {
  "kernelspec": {
   "display_name": "Python 3 (ipykernel)",
   "language": "python",
   "name": "python3"
  },
  "language_info": {
   "codemirror_mode": {
    "name": "ipython",
    "version": 3
   },
   "file_extension": ".py",
   "mimetype": "text/x-python",
   "name": "python",
   "nbconvert_exporter": "python",
   "pygments_lexer": "ipython3",
   "version": "3.12.4"
  },
  "vscode": {
   "interpreter": {
    "hash": "40d3a090f54c6569ab1632332b64b2c03c39dcf918b08424e98f38b5ae0af88f"
   }
  }
 },
 "nbformat": 4,
 "nbformat_minor": 5
}
